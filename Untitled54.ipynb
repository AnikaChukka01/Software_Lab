{
  "nbformat": 4,
  "nbformat_minor": 0,
  "metadata": {
    "colab": {
      "provenance": [],
      "authorship_tag": "ABX9TyMaCdhTguATDOYnUp3v1w3r"
    },
    "kernelspec": {
      "name": "python3",
      "display_name": "Python 3"
    },
    "language_info": {
      "name": "python"
    }
  },
  "cells": [
    {
      "cell_type": "code",
      "execution_count": 1,
      "metadata": {
        "colab": {
          "base_uri": "https://localhost:8080/"
        },
        "id": "MeehNGVIQjQm",
        "outputId": "dd3e29d6-1ae7-42fa-aebe-97c2f50a2ec2"
      },
      "outputs": [
        {
          "output_type": "stream",
          "name": "stdout",
          "text": [
            "Enter the number for the number of test cases: 2\n",
            "Enter the temperature value: 23\n",
            "Enter the Humidity value: 12\n",
            "Enter the wind value: 4\n",
            "Weather :  247.5\n",
            "Prediction : Cloudy\n",
            "Enter the temperature value: 24\n",
            "Enter the Humidity value: 67\n",
            "Enter the wind value: 89\n",
            "Weather :  268.5\n",
            "Prediction : Cloudy\n"
          ]
        }
      ],
      "source": [
        "# USER GIVEN MULTIPLE VARIABLES\n",
        "def weather_condition(T,H,w):\n",
        "    W=(0.5*(T**2))-(0.2*H)+(0.1*w)-15\n",
        "    print(\"Weather : \",W)\n",
        "    if W>300:\n",
        "        print(\"Prediction : Sunny\")\n",
        "    elif 200<W<=300:\n",
        "        print(\"Prediction : Cloudy\")\n",
        "    elif 100<W<=200:\n",
        "        print(\"Prediction : Rainy\")\n",
        "    elif W<=100:\n",
        "        print(\"Prediction : Stormy\")\n",
        "n=int(input(\"Enter the number for the number of test cases: \"))\n",
        "for i in range(n):\n",
        "    T=int(input(\"Enter the temperature value: \"))\n",
        "    H=int(input(\"Enter the Humidity value: \"))\n",
        "    w=int(input(\"Enter the wind value: \"))\n",
        "    weather_condition(T,H,w)\n"
      ]
    }
  ]
}